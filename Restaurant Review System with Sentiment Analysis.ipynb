{
 "cells": [
  {
   "cell_type": "code",
   "execution_count": 3,
   "metadata": {},
   "outputs": [],
   "source": [
    "import numpy as np\n",
    "import matplotlib.pyplot as plt\n",
    "import seaborn as sns\n",
    "import pandas as pd\n",
    "import json\n",
    "import random"
   ]
  },
  {
   "cell_type": "code",
   "execution_count": 4,
   "metadata": {},
   "outputs": [],
   "source": [
    "class Sentiment:\n",
    "  negative=\"NEGATIVE\"\n",
    "  positive=\"POSITIVE\"\n",
    "class Review:\n",
    "  def __init__(self,text,score):\n",
    "    self.text=text\n",
    "    self.score=score\n",
    "    self.sentiment=self.get_sentiment()\n",
    "  def get_sentiment(self):\n",
    "    if self.score<3:\n",
    "      return Sentiment.negative\n",
    "    else:#when score is 3 or 4 or 5\n",
    "      return Sentiment.positive\n",
    "class ReviewContainer:\n",
    "  def __init__(self,reviews):\n",
    "    self.reviews=reviews\n",
    "  def evenly_distibute(self):\n",
    "    negative=list(filter(lambda x:x.sentiment==Sentiment.negative,self.reviews))\n",
    "    positive=list(filter(lambda x:x.sentiment==Sentiment.positive,self.reviews))\n",
    "    #as data contains more positive data sets,we will reduce them into number of negative one's for better accuracy\n",
    "    positive_shrunk=positive[:len(negative)]\n",
    "    self.reviews=negative+positive_shrunk\n",
    "    random.shuffle(self.reviews)"
   ]
  },
  {
   "cell_type": "code",
   "execution_count": 5,
   "metadata": {},
   "outputs": [],
   "source": [
    "reviews=[]\n",
    "with open(\"rev.json\") as f:\n",
    "\n",
    "\n",
    "  for line in f:\n",
    "    review_json=json.loads(line)\n",
    "    review=Review(review_json['reviewText'], review_json['overall'])\n",
    "    reviews.append(review)"
   ]
  },
  {
   "cell_type": "code",
   "execution_count": 6,
   "metadata": {},
   "outputs": [
    {
     "data": {
      "text/plain": [
       "'POSITIVE'"
      ]
     },
     "execution_count": 6,
     "metadata": {},
     "output_type": "execute_result"
    }
   ],
   "source": [
    "reviews[0].text\n",
    "reviews[0].score\n",
    "reviews[0].sentiment"
   ]
  },
  {
   "cell_type": "markdown",
   "metadata": {},
   "source": [
    "## Train test split"
   ]
  },
  {
   "cell_type": "code",
   "execution_count": 7,
   "metadata": {},
   "outputs": [],
   "source": [
    "from sklearn.model_selection import train_test_split\n",
    "training,testing=train_test_split(reviews,test_size=0.33)"
   ]
  },
  {
   "cell_type": "code",
   "execution_count": 8,
   "metadata": {},
   "outputs": [
    {
     "data": {
      "text/plain": [
       "6700"
      ]
     },
     "execution_count": 8,
     "metadata": {},
     "output_type": "execute_result"
    }
   ],
   "source": [
    "\n",
    "len(training)"
   ]
  },
  {
   "cell_type": "code",
   "execution_count": 9,
   "metadata": {},
   "outputs": [],
   "source": [
    "#evenly distributing data for better accuracies\n",
    "traincontainer=ReviewContainer(training)\n",
    "traincontainer.evenly_distibute()\n",
    "testcontainer=ReviewContainer(testing)\n",
    "testcontainer.evenly_distibute()"
   ]
  },
  {
   "cell_type": "code",
   "execution_count": 10,
   "metadata": {},
   "outputs": [],
   "source": [
    "\n",
    "#splitting data\n",
    "x_train=[x.text for x in traincontainer.reviews]\n",
    "x_test=[x.text for x in testcontainer.reviews]\n",
    "y_train=[y.sentiment for y in traincontainer.reviews]\n",
    "y_test=[y.sentiment for y in testcontainer.reviews]"
   ]
  },
  {
   "cell_type": "code",
   "execution_count": 11,
   "metadata": {},
   "outputs": [
    {
     "data": {
      "text/plain": [
       "451"
      ]
     },
     "execution_count": 11,
     "metadata": {},
     "output_type": "execute_result"
    }
   ],
   "source": [
    "y_train.count(Sentiment.positive)\n",
    "y_train.count(Sentiment.negative)"
   ]
  },
  {
   "cell_type": "markdown",
   "metadata": {},
   "source": [
    "## Vectorization"
   ]
  },
  {
   "cell_type": "code",
   "execution_count": 12,
   "metadata": {},
   "outputs": [],
   "source": [
    "#here we can also use count vectorizer but ,tfidf vectorizer best suits the problem\n",
    "from sklearn.feature_extraction.text import TfidfVectorizer\n",
    "vectorizer=TfidfVectorizer()\n",
    "x_train_vector=vectorizer.fit_transform(x_train)\n",
    "x_test_vector=vectorizer.transform(x_test)"
   ]
  },
  {
   "cell_type": "markdown",
   "metadata": {},
   "source": [
    "## Accuracy and f1 score for SVC "
   ]
  },
  {
   "cell_type": "code",
   "execution_count": 13,
   "metadata": {},
   "outputs": [
    {
     "name": "stdout",
     "output_type": "stream",
     "text": [
      "0.7953367875647669\n",
      "[0.79265092 0.79795396]\n"
     ]
    }
   ],
   "source": [
    "\n",
    "from sklearn.svm import SVC\n",
    "clf_svm=SVC()\n",
    "clf_svm.fit(x_train_vector,y_train)\n",
    "y_pred=clf_svm.predict(x_test_vector)\n",
    "\n",
    "from sklearn.metrics import accuracy_score,f1_score\n",
    "clf_svm_score=accuracy_score(y_test,y_pred)\n",
    "print(accuracy_score(y_test,y_pred))\n",
    "print(f1_score(y_test,y_pred,average=None,labels=[Sentiment.positive,Sentiment.negative]))"
   ]
  },
  {
   "cell_type": "markdown",
   "metadata": {},
   "source": [
    "## Accuracy and f1 score for SVC"
   ]
  },
  {
   "cell_type": "code",
   "execution_count": 14,
   "metadata": {},
   "outputs": [
    {
     "name": "stdout",
     "output_type": "stream",
     "text": [
      "0.6373056994818653\n",
      "[0.64467005 0.62962963]\n"
     ]
    }
   ],
   "source": [
    "from sklearn.tree import DecisionTreeClassifier\n",
    "clf_dec=DecisionTreeClassifier()\n",
    "clf_dec.fit(x_train_vector,y_train)\n",
    "y_pred=clf_dec.predict(x_test_vector)\n",
    "\n",
    "from sklearn.metrics import accuracy_score,f1_score\n",
    "clf_dec_score=accuracy_score(y_test,y_pred)\n",
    "print(accuracy_score(y_test,y_pred))\n",
    "print(f1_score(y_test,y_pred,average=None,labels=[Sentiment.positive,Sentiment.negative]))"
   ]
  },
  {
   "cell_type": "markdown",
   "metadata": {},
   "source": [
    "## Accuracy and f1 score for LogisticRegression"
   ]
  },
  {
   "cell_type": "code",
   "execution_count": 15,
   "metadata": {},
   "outputs": [
    {
     "name": "stdout",
     "output_type": "stream",
     "text": [
      "0.810880829015544\n",
      "[0.80839895 0.81329923]\n"
     ]
    }
   ],
   "source": [
    "from sklearn.linear_model import LogisticRegression\n",
    "clf_log=LogisticRegression()\n",
    "clf_log.fit(x_train_vector,y_train)\n",
    "y_pred=clf_log.predict(x_test_vector)\n",
    "\n",
    "from sklearn.metrics import accuracy_score,f1_score\n",
    "clf_log_score=accuracy_score(y_test,y_pred)\n",
    "print(accuracy_score(y_test,y_pred))\n",
    "print(f1_score(y_test,y_pred,average=None,labels=[Sentiment.positive,Sentiment.negative]))"
   ]
  },
  {
   "cell_type": "markdown",
   "metadata": {},
   "source": [
    "## Prediction"
   ]
  },
  {
   "cell_type": "code",
   "execution_count": 94,
   "metadata": {},
   "outputs": [
    {
     "name": "stdout",
     "output_type": "stream",
     "text": [
      "['POSITIVE' 'POSITIVE' 'POSITIVE' 'NEGATIVE' 'POSITIVE' 'POSITIVE'\n",
      " 'POSITIVE']\n"
     ]
    },
    {
     "data": {
      "text/plain": [
       "7"
      ]
     },
     "execution_count": 94,
     "metadata": {},
     "output_type": "execute_result"
    }
   ],
   "source": [
    "#predicting few random samples whether positive or negative\n",
    "x =clf_log.predict(vectorizer.transform([\"this is execellent\",\"execellent\",\"awesome\",\"worst one\",\"highly prefferable\",\"tasty\",\"the food is good and the toilets are bad. The managment is good. There are good discounts.\"]))\n",
    "print(x)\n",
    "len(x)"
   ]
  },
  {
   "cell_type": "markdown",
   "metadata": {},
   "source": [
    "## Devolping 5 - star Review on Restaurants"
   ]
  },
  {
   "cell_type": "code",
   "execution_count": 95,
   "metadata": {},
   "outputs": [
    {
     "name": "stdout",
     "output_type": "stream",
     "text": [
      "[['POSITIVE']\n",
      " ['POSITIVE']\n",
      " ['POSITIVE']\n",
      " ['NEGATIVE']\n",
      " ['POSITIVE']\n",
      " ['POSITIVE']\n",
      " ['POSITIVE']]\n"
     ]
    }
   ],
   "source": [
    "y = x.reshape(-1,1)\n",
    "print (y)"
   ]
  },
  {
   "cell_type": "code",
   "execution_count": 78,
   "metadata": {},
   "outputs": [
    {
     "name": "stdout",
     "output_type": "stream",
     "text": [
      "['POSITIVE']\n"
     ]
    }
   ],
   "source": [
    "print(y[1])\n"
   ]
  },
  {
   "cell_type": "code",
   "execution_count": 79,
   "metadata": {},
   "outputs": [
    {
     "name": "stdout",
     "output_type": "stream",
     "text": [
      "['POSITIVE']\n",
      "['POSITIVE']\n",
      "['POSITIVE']\n",
      "['POSITIVE']\n",
      "['POSITIVE']\n",
      "5\n"
     ]
    }
   ],
   "source": [
    "j = 0\n",
    "k = []\n",
    "for i in range(0,len(x)):\n",
    "        if(y[i] != ['NEGATIVE']):\n",
    "            k = y[i]\n",
    "            print (k)\n",
    "            j = j +1\n",
    "            \n",
    "            \n",
    "        i = i+1\n",
    "print(j)"
   ]
  },
  {
   "cell_type": "code",
   "execution_count": 80,
   "metadata": {},
   "outputs": [
    {
     "name": "stdout",
     "output_type": "stream",
     "text": [
      "3.4\n"
     ]
    }
   ],
   "source": [
    "rating = accuracy_score(y_test,y_pred)*(100*j)/(len(x)*20)\n",
    "print(rating.round(1))"
   ]
  }
 ],
 "metadata": {
  "kernelspec": {
   "display_name": "Python 3",
   "language": "python",
   "name": "python3"
  },
  "language_info": {
   "codemirror_mode": {
    "name": "ipython",
    "version": 3
   },
   "file_extension": ".py",
   "mimetype": "text/x-python",
   "name": "python",
   "nbconvert_exporter": "python",
   "pygments_lexer": "ipython3",
   "version": "3.8.5"
  }
 },
 "nbformat": 4,
 "nbformat_minor": 4
}
